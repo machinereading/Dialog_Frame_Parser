{
 "cells": [
  {
   "cell_type": "code",
   "execution_count": 1,
   "metadata": {},
   "outputs": [
    {
     "name": "stderr",
     "output_type": "stream",
     "text": [
      "Using TensorFlow backend.\n"
     ]
    },
    {
     "name": "stdout",
     "output_type": "stream",
     "text": [
      "\n",
      "###DEVICE: cuda\n"
     ]
    }
   ],
   "source": [
    "import json\n",
    "import os\n",
    "import frame_parser\n",
    "from src import dataio\n",
    "from src import eval_fn\n",
    "import glob\n",
    "from pprint import pprint"
   ]
  },
  {
   "cell_type": "markdown",
   "metadata": {},
   "source": [
    "# Define task"
   ]
  },
  {
   "cell_type": "code",
   "execution_count": 2,
   "metadata": {},
   "outputs": [],
   "source": [
    "srl = 'framenet'\n",
    "language = 'en'"
   ]
  },
  {
   "cell_type": "markdown",
   "metadata": {},
   "source": [
    "# Load data"
   ]
  },
  {
   "cell_type": "code",
   "execution_count": 3,
   "metadata": {},
   "outputs": [],
   "source": [
    "trn, dev, tst = dataio.load_data(srl=srl, language=language, exem=False, info=False)\n",
    "if srl == 'framenet-argid':\n",
    "    trn = dataio.fe2arg(trn)\n",
    "    dev = dataio.fe2arg(dev)\n",
    "    tst = dataio.fe2arg(tst)"
   ]
  },
  {
   "cell_type": "code",
   "execution_count": 5,
   "metadata": {},
   "outputs": [
    {
     "name": "stdout",
     "output_type": "stream",
     "text": [
      "srl model: framenet\n",
      "language: en\n",
      "version: 1.2\n",
      "using viterbi: False\n",
      "using masking: True\n",
      "pretrained BERT: bert-base-multilingual-cased\n",
      "using TGT special token: True\n",
      "used dictionary:\n",
      "\t /disk/frameBERT/frameBERT/src/../koreanframenet/resource/info/fn1.7_lu2idx.json\n",
      "\t /disk/frameBERT/frameBERT/src/../koreanframenet/resource/info/fn1.7_lufrmap.json\n",
      "\t /disk/frameBERT/frameBERT/src/../koreanframenet/resource/info/fn1.7_bio_frargmap.json\n",
      "...loaded model path: /disk/frameBERT/models/joint/36/\n",
      "/disk/frameBERT/models/joint/36/\n",
      "...model is loaded\n"
     ]
    },
    {
     "name": "stderr",
     "output_type": "stream",
     "text": [
      "../frameBERT/src/utils.py:279: UserWarning: Implicit dimension choice for softmax has been deprecated. Change the call to include dim=X as an argument.\n",
      "  pred_logits = sm(masked_logit).view(1,-1)\n"
     ]
    }
   ],
   "source": [
    "# Parsing Gold Data\n",
    "\n",
    "def test_model(model_path, masking=True, language='en'):\n",
    "#     torch.cuda.set_device(device)\n",
    "    model = frame_parser.FrameParser(srl=srl,gold_pred=True, model_path=model_path, masking=masking, language=language)\n",
    "    \n",
    "    parsed_result = []\n",
    "    for instance in tst:\n",
    "#         torch.cuda.set_device(device)\n",
    "        result = model.parser(instance)[0]\n",
    "        parsed_result.append(result)\n",
    "        \n",
    "#         break\n",
    "        \n",
    "    return parsed_result\n",
    "        \n",
    "parsed = test_model('/disk/frameBERT/models/joint/36/', language=language)"
   ]
  },
  {
   "cell_type": "markdown",
   "metadata": {},
   "source": [
    "# Data format example"
   ]
  },
  {
   "cell_type": "code",
   "execution_count": 6,
   "metadata": {},
   "outputs": [
    {
     "name": "stdout",
     "output_type": "stream",
     "text": [
      "\n",
      "test_data\n",
      "[['<tgt>', 'December', '</tgt>', '1998'], ['_', 'December.n', '_', '_'], ['_', 'Calendric_unit', '_', '_'], ['X', 'B-Unit', 'X', 'B-Whole']]\n",
      "\n",
      "parsed_data\n",
      "[['December', '1998'], ['December.n', '_'], ['Calendric_unit', '_'], ['B-Name', 'B-Whole']]\n"
     ]
    }
   ],
   "source": [
    "print('\\ntest_data')\n",
    "print(tst[0])\n",
    "\n",
    "print('\\nparsed_data')\n",
    "print(parsed[0])"
   ]
  },
  {
   "cell_type": "markdown",
   "metadata": {},
   "source": [
    "# Evaluate Models"
   ]
  },
  {
   "cell_type": "code",
   "execution_count": 7,
   "metadata": {},
   "outputs": [
    {
     "name": "stdout",
     "output_type": "stream",
     "text": [
      "model: /disk/frameBERT/models/crosslingual/36\n",
      "srl model: framenet\n",
      "language: en\n",
      "version: 1.2\n",
      "using viterbi: False\n",
      "using masking: True\n",
      "pretrained BERT: bert-base-multilingual-cased\n",
      "using TGT special token: True\n",
      "used dictionary:\n",
      "\t /disk/frameBERT/frameBERT/src/../koreanframenet/resource/info/fn1.7_lu2idx.json\n",
      "\t /disk/frameBERT/frameBERT/src/../koreanframenet/resource/info/fn1.7_lufrmap.json\n",
      "\t /disk/frameBERT/frameBERT/src/../koreanframenet/resource/info/fn1.7_bio_frargmap.json\n",
      "...loaded model path: /disk/frameBERT/models/crosslingual/36\n",
      "/disk/frameBERT/models/crosslingual/36\n",
      "...model is loaded\n",
      "evaluation is complete: 0hour:0min:0sec\n",
      "{'/disk/frameBERT/models/crosslingual/36': {'arg_f1': 0.5,\n",
      "                                            'arg_precision': 0.5,\n",
      "                                            'arg_recall': 0.5,\n",
      "                                            'frameid': 1.0,\n",
      "                                            'full_f1': 0.6666666666666666,\n",
      "                                            'full_precision': 0.6666666666666666,\n",
      "                                            'full_recall': 0.6666666666666666}}\n"
     ]
    },
    {
     "name": "stderr",
     "output_type": "stream",
     "text": [
      "../frameBERT/src/utils.py:279: UserWarning: Implicit dimension choice for softmax has been deprecated. Change the call to include dim=X as an argument.\n",
      "  pred_logits = sm(masked_logit).view(1,-1)\n"
     ]
    }
   ],
   "source": [
    "model_path = '/disk/frameBERT/models/crosslingual/'\n",
    "models = glob.glob(model_path+'*')\n",
    "\n",
    "result = {}\n",
    "\n",
    "for model_path in models:\n",
    "    print('model:', model_path)\n",
    "    parsed_result = test_model(model_path, language=language)\n",
    "    frameid, arg_precision, arg_recall, arg_f1, full_precision, full_recall, full_f1 = eval_fn.evaluate(tst, parsed)\n",
    "    \n",
    "    d = {}\n",
    "    d['frameid'] = frameid\n",
    "    d['arg_precision'] = arg_precision\n",
    "    d['arg_recall'] = arg_recall\n",
    "    d['arg_f1'] = arg_f1\n",
    "    d['full_precision'] = full_precision\n",
    "    d['full_recall'] = full_recall\n",
    "    d['full_f1'] = full_f1\n",
    "    result[model_path] = d\n",
    "    \n",
    "    break\n",
    "    \n",
    "pprint(result)"
   ]
  },
  {
   "cell_type": "code",
   "execution_count": 8,
   "metadata": {},
   "outputs": [
    {
     "name": "stdout",
     "output_type": "stream",
     "text": [
      "{'/disk/frameBERT/models/crosslingual/36': {'arg_f1': 0.5,\n",
      "                                            'arg_precision': 0.5,\n",
      "                                            'arg_recall': 0.5,\n",
      "                                            'frameid': 1.0,\n",
      "                                            'full_f1': 0.6666666666666666,\n",
      "                                            'full_precision': 0.6666666666666666,\n",
      "                                            'full_recall': 0.6666666666666666}}\n"
     ]
    }
   ],
   "source": [
    "pprint(result)"
   ]
  }
 ],
 "metadata": {
  "kernelspec": {
   "display_name": "Python 3",
   "language": "python",
   "name": "python3"
  },
  "language_info": {
   "codemirror_mode": {
    "name": "ipython",
    "version": 3
   },
   "file_extension": ".py",
   "mimetype": "text/x-python",
   "name": "python",
   "nbconvert_exporter": "python",
   "pygments_lexer": "ipython3",
   "version": "3.6.5"
  }
 },
 "nbformat": 4,
 "nbformat_minor": 2
}
